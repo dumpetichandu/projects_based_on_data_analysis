{
 "cells": [
  {
   "cell_type": "code",
   "execution_count": 1,
   "id": "e84d3bd3",
   "metadata": {},
   "outputs": [
    {
     "data": {
      "text/html": [
       "<div>\n",
       "<style scoped>\n",
       "    .dataframe tbody tr th:only-of-type {\n",
       "        vertical-align: middle;\n",
       "    }\n",
       "\n",
       "    .dataframe tbody tr th {\n",
       "        vertical-align: top;\n",
       "    }\n",
       "\n",
       "    .dataframe thead th {\n",
       "        text-align: right;\n",
       "    }\n",
       "</style>\n",
       "<table border=\"1\" class=\"dataframe\">\n",
       "  <thead>\n",
       "    <tr style=\"text-align: right;\">\n",
       "      <th></th>\n",
       "      <th>Unnamed: 0</th>\n",
       "      <th>visits</th>\n",
       "      <th>gender</th>\n",
       "      <th>age</th>\n",
       "      <th>income</th>\n",
       "      <th>illness</th>\n",
       "      <th>reduced</th>\n",
       "      <th>health</th>\n",
       "      <th>private</th>\n",
       "      <th>freepoor</th>\n",
       "      <th>freerepat</th>\n",
       "      <th>nchronic</th>\n",
       "      <th>lchronic</th>\n",
       "    </tr>\n",
       "  </thead>\n",
       "  <tbody>\n",
       "    <tr>\n",
       "      <th>0</th>\n",
       "      <td>1</td>\n",
       "      <td>1</td>\n",
       "      <td>female</td>\n",
       "      <td>0.19</td>\n",
       "      <td>0.55</td>\n",
       "      <td>1</td>\n",
       "      <td>4</td>\n",
       "      <td>1</td>\n",
       "      <td>yes</td>\n",
       "      <td>no</td>\n",
       "      <td>no</td>\n",
       "      <td>no</td>\n",
       "      <td>no</td>\n",
       "    </tr>\n",
       "    <tr>\n",
       "      <th>1</th>\n",
       "      <td>2</td>\n",
       "      <td>1</td>\n",
       "      <td>female</td>\n",
       "      <td>0.19</td>\n",
       "      <td>0.45</td>\n",
       "      <td>1</td>\n",
       "      <td>2</td>\n",
       "      <td>1</td>\n",
       "      <td>yes</td>\n",
       "      <td>no</td>\n",
       "      <td>no</td>\n",
       "      <td>no</td>\n",
       "      <td>no</td>\n",
       "    </tr>\n",
       "    <tr>\n",
       "      <th>2</th>\n",
       "      <td>3</td>\n",
       "      <td>1</td>\n",
       "      <td>male</td>\n",
       "      <td>0.19</td>\n",
       "      <td>0.90</td>\n",
       "      <td>3</td>\n",
       "      <td>0</td>\n",
       "      <td>0</td>\n",
       "      <td>no</td>\n",
       "      <td>no</td>\n",
       "      <td>no</td>\n",
       "      <td>no</td>\n",
       "      <td>no</td>\n",
       "    </tr>\n",
       "    <tr>\n",
       "      <th>3</th>\n",
       "      <td>4</td>\n",
       "      <td>1</td>\n",
       "      <td>male</td>\n",
       "      <td>0.19</td>\n",
       "      <td>0.15</td>\n",
       "      <td>1</td>\n",
       "      <td>0</td>\n",
       "      <td>0</td>\n",
       "      <td>no</td>\n",
       "      <td>no</td>\n",
       "      <td>no</td>\n",
       "      <td>no</td>\n",
       "      <td>no</td>\n",
       "    </tr>\n",
       "    <tr>\n",
       "      <th>4</th>\n",
       "      <td>5</td>\n",
       "      <td>1</td>\n",
       "      <td>male</td>\n",
       "      <td>0.19</td>\n",
       "      <td>0.45</td>\n",
       "      <td>2</td>\n",
       "      <td>5</td>\n",
       "      <td>1</td>\n",
       "      <td>no</td>\n",
       "      <td>no</td>\n",
       "      <td>no</td>\n",
       "      <td>yes</td>\n",
       "      <td>no</td>\n",
       "    </tr>\n",
       "    <tr>\n",
       "      <th>...</th>\n",
       "      <td>...</td>\n",
       "      <td>...</td>\n",
       "      <td>...</td>\n",
       "      <td>...</td>\n",
       "      <td>...</td>\n",
       "      <td>...</td>\n",
       "      <td>...</td>\n",
       "      <td>...</td>\n",
       "      <td>...</td>\n",
       "      <td>...</td>\n",
       "      <td>...</td>\n",
       "      <td>...</td>\n",
       "      <td>...</td>\n",
       "    </tr>\n",
       "    <tr>\n",
       "      <th>5185</th>\n",
       "      <td>5186</td>\n",
       "      <td>0</td>\n",
       "      <td>female</td>\n",
       "      <td>0.22</td>\n",
       "      <td>0.55</td>\n",
       "      <td>0</td>\n",
       "      <td>0</td>\n",
       "      <td>0</td>\n",
       "      <td>no</td>\n",
       "      <td>no</td>\n",
       "      <td>no</td>\n",
       "      <td>no</td>\n",
       "      <td>no</td>\n",
       "    </tr>\n",
       "    <tr>\n",
       "      <th>5186</th>\n",
       "      <td>5187</td>\n",
       "      <td>0</td>\n",
       "      <td>male</td>\n",
       "      <td>0.27</td>\n",
       "      <td>1.30</td>\n",
       "      <td>0</td>\n",
       "      <td>0</td>\n",
       "      <td>1</td>\n",
       "      <td>no</td>\n",
       "      <td>no</td>\n",
       "      <td>no</td>\n",
       "      <td>no</td>\n",
       "      <td>no</td>\n",
       "    </tr>\n",
       "    <tr>\n",
       "      <th>5187</th>\n",
       "      <td>5188</td>\n",
       "      <td>0</td>\n",
       "      <td>female</td>\n",
       "      <td>0.37</td>\n",
       "      <td>0.25</td>\n",
       "      <td>1</td>\n",
       "      <td>0</td>\n",
       "      <td>1</td>\n",
       "      <td>no</td>\n",
       "      <td>no</td>\n",
       "      <td>yes</td>\n",
       "      <td>no</td>\n",
       "      <td>no</td>\n",
       "    </tr>\n",
       "    <tr>\n",
       "      <th>5188</th>\n",
       "      <td>5189</td>\n",
       "      <td>0</td>\n",
       "      <td>female</td>\n",
       "      <td>0.52</td>\n",
       "      <td>0.65</td>\n",
       "      <td>0</td>\n",
       "      <td>0</td>\n",
       "      <td>0</td>\n",
       "      <td>no</td>\n",
       "      <td>no</td>\n",
       "      <td>no</td>\n",
       "      <td>no</td>\n",
       "      <td>no</td>\n",
       "    </tr>\n",
       "    <tr>\n",
       "      <th>5189</th>\n",
       "      <td>5190</td>\n",
       "      <td>0</td>\n",
       "      <td>male</td>\n",
       "      <td>0.72</td>\n",
       "      <td>0.25</td>\n",
       "      <td>0</td>\n",
       "      <td>0</td>\n",
       "      <td>0</td>\n",
       "      <td>no</td>\n",
       "      <td>no</td>\n",
       "      <td>yes</td>\n",
       "      <td>no</td>\n",
       "      <td>no</td>\n",
       "    </tr>\n",
       "  </tbody>\n",
       "</table>\n",
       "<p>5190 rows × 13 columns</p>\n",
       "</div>"
      ],
      "text/plain": [
       "      Unnamed: 0  visits  gender   age  income  illness  reduced  health  \\\n",
       "0              1       1  female  0.19    0.55        1        4       1   \n",
       "1              2       1  female  0.19    0.45        1        2       1   \n",
       "2              3       1    male  0.19    0.90        3        0       0   \n",
       "3              4       1    male  0.19    0.15        1        0       0   \n",
       "4              5       1    male  0.19    0.45        2        5       1   \n",
       "...          ...     ...     ...   ...     ...      ...      ...     ...   \n",
       "5185        5186       0  female  0.22    0.55        0        0       0   \n",
       "5186        5187       0    male  0.27    1.30        0        0       1   \n",
       "5187        5188       0  female  0.37    0.25        1        0       1   \n",
       "5188        5189       0  female  0.52    0.65        0        0       0   \n",
       "5189        5190       0    male  0.72    0.25        0        0       0   \n",
       "\n",
       "     private freepoor freerepat nchronic lchronic  \n",
       "0        yes       no        no       no       no  \n",
       "1        yes       no        no       no       no  \n",
       "2         no       no        no       no       no  \n",
       "3         no       no        no       no       no  \n",
       "4         no       no        no      yes       no  \n",
       "...      ...      ...       ...      ...      ...  \n",
       "5185      no       no        no       no       no  \n",
       "5186      no       no        no       no       no  \n",
       "5187      no       no       yes       no       no  \n",
       "5188      no       no        no       no       no  \n",
       "5189      no       no       yes       no       no  \n",
       "\n",
       "[5190 rows x 13 columns]"
      ]
     },
     "execution_count": 1,
     "metadata": {},
     "output_type": "execute_result"
    }
   ],
   "source": [
    "#importing python lybarires \n",
    "import pandas as pd\n",
    "df=pd.read_csv('dataanalysis.csv')\n",
    "df"
   ]
  },
  {
   "cell_type": "markdown",
   "id": "d6b41775",
   "metadata": {},
   "source": [
    "# cleaning the data"
   ]
  },
  {
   "cell_type": "code",
   "execution_count": 2,
   "id": "baeac75d",
   "metadata": {},
   "outputs": [],
   "source": [
    "def cleaning(df):\n",
    "    df['age']=df['age']*100\n",
    "    df['income']=df['income']*100\n",
    "    df.drop(df.columns[0],axis=1,inplace=True)\n",
    "    return df\n",
    "    "
   ]
  },
  {
   "cell_type": "code",
   "execution_count": 3,
   "id": "3498a095",
   "metadata": {},
   "outputs": [],
   "source": [
    "df1 = cleaning(df)"
   ]
  },
  {
   "cell_type": "code",
   "execution_count": 4,
   "id": "a0866f0a",
   "metadata": {
    "scrolled": true
   },
   "outputs": [
    {
     "data": {
      "text/html": [
       "<div>\n",
       "<style scoped>\n",
       "    .dataframe tbody tr th:only-of-type {\n",
       "        vertical-align: middle;\n",
       "    }\n",
       "\n",
       "    .dataframe tbody tr th {\n",
       "        vertical-align: top;\n",
       "    }\n",
       "\n",
       "    .dataframe thead th {\n",
       "        text-align: right;\n",
       "    }\n",
       "</style>\n",
       "<table border=\"1\" class=\"dataframe\">\n",
       "  <thead>\n",
       "    <tr style=\"text-align: right;\">\n",
       "      <th></th>\n",
       "      <th>visits</th>\n",
       "      <th>gender</th>\n",
       "      <th>age</th>\n",
       "      <th>income</th>\n",
       "      <th>illness</th>\n",
       "      <th>reduced</th>\n",
       "      <th>health</th>\n",
       "      <th>private</th>\n",
       "      <th>freepoor</th>\n",
       "      <th>freerepat</th>\n",
       "      <th>nchronic</th>\n",
       "      <th>lchronic</th>\n",
       "    </tr>\n",
       "  </thead>\n",
       "  <tbody>\n",
       "    <tr>\n",
       "      <th>0</th>\n",
       "      <td>1</td>\n",
       "      <td>female</td>\n",
       "      <td>19.0</td>\n",
       "      <td>55.0</td>\n",
       "      <td>1</td>\n",
       "      <td>4</td>\n",
       "      <td>1</td>\n",
       "      <td>yes</td>\n",
       "      <td>no</td>\n",
       "      <td>no</td>\n",
       "      <td>no</td>\n",
       "      <td>no</td>\n",
       "    </tr>\n",
       "    <tr>\n",
       "      <th>1</th>\n",
       "      <td>1</td>\n",
       "      <td>female</td>\n",
       "      <td>19.0</td>\n",
       "      <td>45.0</td>\n",
       "      <td>1</td>\n",
       "      <td>2</td>\n",
       "      <td>1</td>\n",
       "      <td>yes</td>\n",
       "      <td>no</td>\n",
       "      <td>no</td>\n",
       "      <td>no</td>\n",
       "      <td>no</td>\n",
       "    </tr>\n",
       "    <tr>\n",
       "      <th>2</th>\n",
       "      <td>1</td>\n",
       "      <td>male</td>\n",
       "      <td>19.0</td>\n",
       "      <td>90.0</td>\n",
       "      <td>3</td>\n",
       "      <td>0</td>\n",
       "      <td>0</td>\n",
       "      <td>no</td>\n",
       "      <td>no</td>\n",
       "      <td>no</td>\n",
       "      <td>no</td>\n",
       "      <td>no</td>\n",
       "    </tr>\n",
       "    <tr>\n",
       "      <th>3</th>\n",
       "      <td>1</td>\n",
       "      <td>male</td>\n",
       "      <td>19.0</td>\n",
       "      <td>15.0</td>\n",
       "      <td>1</td>\n",
       "      <td>0</td>\n",
       "      <td>0</td>\n",
       "      <td>no</td>\n",
       "      <td>no</td>\n",
       "      <td>no</td>\n",
       "      <td>no</td>\n",
       "      <td>no</td>\n",
       "    </tr>\n",
       "    <tr>\n",
       "      <th>4</th>\n",
       "      <td>1</td>\n",
       "      <td>male</td>\n",
       "      <td>19.0</td>\n",
       "      <td>45.0</td>\n",
       "      <td>2</td>\n",
       "      <td>5</td>\n",
       "      <td>1</td>\n",
       "      <td>no</td>\n",
       "      <td>no</td>\n",
       "      <td>no</td>\n",
       "      <td>yes</td>\n",
       "      <td>no</td>\n",
       "    </tr>\n",
       "    <tr>\n",
       "      <th>5</th>\n",
       "      <td>1</td>\n",
       "      <td>female</td>\n",
       "      <td>19.0</td>\n",
       "      <td>35.0</td>\n",
       "      <td>5</td>\n",
       "      <td>1</td>\n",
       "      <td>9</td>\n",
       "      <td>no</td>\n",
       "      <td>no</td>\n",
       "      <td>no</td>\n",
       "      <td>yes</td>\n",
       "      <td>no</td>\n",
       "    </tr>\n",
       "    <tr>\n",
       "      <th>6</th>\n",
       "      <td>1</td>\n",
       "      <td>female</td>\n",
       "      <td>19.0</td>\n",
       "      <td>55.0</td>\n",
       "      <td>4</td>\n",
       "      <td>0</td>\n",
       "      <td>2</td>\n",
       "      <td>no</td>\n",
       "      <td>no</td>\n",
       "      <td>no</td>\n",
       "      <td>no</td>\n",
       "      <td>no</td>\n",
       "    </tr>\n",
       "    <tr>\n",
       "      <th>7</th>\n",
       "      <td>1</td>\n",
       "      <td>female</td>\n",
       "      <td>19.0</td>\n",
       "      <td>15.0</td>\n",
       "      <td>3</td>\n",
       "      <td>0</td>\n",
       "      <td>6</td>\n",
       "      <td>no</td>\n",
       "      <td>no</td>\n",
       "      <td>no</td>\n",
       "      <td>no</td>\n",
       "      <td>no</td>\n",
       "    </tr>\n",
       "    <tr>\n",
       "      <th>8</th>\n",
       "      <td>1</td>\n",
       "      <td>female</td>\n",
       "      <td>19.0</td>\n",
       "      <td>65.0</td>\n",
       "      <td>2</td>\n",
       "      <td>0</td>\n",
       "      <td>5</td>\n",
       "      <td>yes</td>\n",
       "      <td>no</td>\n",
       "      <td>no</td>\n",
       "      <td>no</td>\n",
       "      <td>no</td>\n",
       "    </tr>\n",
       "    <tr>\n",
       "      <th>9</th>\n",
       "      <td>1</td>\n",
       "      <td>male</td>\n",
       "      <td>19.0</td>\n",
       "      <td>15.0</td>\n",
       "      <td>1</td>\n",
       "      <td>0</td>\n",
       "      <td>0</td>\n",
       "      <td>yes</td>\n",
       "      <td>no</td>\n",
       "      <td>no</td>\n",
       "      <td>no</td>\n",
       "      <td>no</td>\n",
       "    </tr>\n",
       "  </tbody>\n",
       "</table>\n",
       "</div>"
      ],
      "text/plain": [
       "   visits  gender   age  income  illness  reduced  health private freepoor  \\\n",
       "0       1  female  19.0    55.0        1        4       1     yes       no   \n",
       "1       1  female  19.0    45.0        1        2       1     yes       no   \n",
       "2       1    male  19.0    90.0        3        0       0      no       no   \n",
       "3       1    male  19.0    15.0        1        0       0      no       no   \n",
       "4       1    male  19.0    45.0        2        5       1      no       no   \n",
       "5       1  female  19.0    35.0        5        1       9      no       no   \n",
       "6       1  female  19.0    55.0        4        0       2      no       no   \n",
       "7       1  female  19.0    15.0        3        0       6      no       no   \n",
       "8       1  female  19.0    65.0        2        0       5     yes       no   \n",
       "9       1    male  19.0    15.0        1        0       0     yes       no   \n",
       "\n",
       "  freerepat nchronic lchronic  \n",
       "0        no       no       no  \n",
       "1        no       no       no  \n",
       "2        no       no       no  \n",
       "3        no       no       no  \n",
       "4        no      yes       no  \n",
       "5        no      yes       no  \n",
       "6        no       no       no  \n",
       "7        no       no       no  \n",
       "8        no       no       no  \n",
       "9        no       no       no  "
      ]
     },
     "execution_count": 4,
     "metadata": {},
     "output_type": "execute_result"
    }
   ],
   "source": [
    "df1.head(10)"
   ]
  },
  {
   "cell_type": "markdown",
   "id": "6ed9147f",
   "metadata": {},
   "source": [
    "# Counting no of males and females"
   ]
  },
  {
   "cell_type": "code",
   "execution_count": 5,
   "id": "ff159201",
   "metadata": {},
   "outputs": [
    {
     "name": "stdout",
     "output_type": "stream",
     "text": [
      "There are 2702 females and 2488 males\n"
     ]
    }
   ],
   "source": [
    "#counting the unique values in the column\n",
    "a,b = df1['gender'].value_counts()\n",
    "print(f'There are {a} females and {b} males' )"
   ]
  },
  {
   "cell_type": "markdown",
   "id": "b884f704",
   "metadata": {},
   "source": [
    "# Finding different types of age groups "
   ]
  },
  {
   "cell_type": "code",
   "execution_count": 6,
   "id": "f36ef0df",
   "metadata": {},
   "outputs": [],
   "source": [
    "women = df1.query('gender == \"female\" and age > 20.0')\n",
    "men = df1.query('gender == \"male\"and age>20.0')\n",
    "girls = df1.query('gender==\"female\" and age<20.0')\n",
    "boys = df1.query('gender ==\"male\" and age<20.0')"
   ]
  },
  {
   "cell_type": "code",
   "execution_count": 7,
   "id": "fac54861",
   "metadata": {},
   "outputs": [],
   "source": [
    "#Creating data sets \n",
    "No_wowen = women.shape[0]\n",
    "No_men   = men.shape[0]\n",
    "No_girls = girls.shape[0]\n",
    "No_boys  = boys.shape[0]\n",
    "numbers = [No_wowen,No_men,No_girls,No_boys]\n",
    "ages = [\"women\",\"men\",\"girls\",\"boys\"]"
   ]
  },
  {
   "cell_type": "markdown",
   "id": "67c6046b",
   "metadata": {},
   "source": [
    "# Visualization of ages "
   ]
  },
  {
   "cell_type": "code",
   "execution_count": 8,
   "id": "49141f34",
   "metadata": {},
   "outputs": [
    {
     "data": {
      "image/png": "[encoded data removed]",
      "text/plain": [
       "<Figure size 640x480 with 1 Axes>"
      ]
     },
     "metadata": {},
     "output_type": "display_data"
    }
   ],
   "source": [
    "from matplotlib import pyplot as plt\n",
    "plt.bar(ages,numbers,color='green',width=0.2)\n",
    "plt.xlabel('types of ages ')\n",
    "plt.ylabel('No of persons in there age ')\n",
    "plt.title(\"Types of age groups\")\n",
    "plt.show()"
   ]
  },
  {
   "cell_type": "markdown",
   "id": "c2aef5ea",
   "metadata": {},
   "source": [
    "# Visualization of avarage income based on age and gender"
   ]
  },
  {
   "cell_type": "code",
   "execution_count": 9,
   "id": "a5080b20",
   "metadata": {},
   "outputs": [],
   "source": [
    "values = [int(women['income'].mean()),int(men['income'].mean()),int(girls['income'].mean()),int(boys['income'].mean())]"
   ]
  },
  {
   "cell_type": "code",
   "execution_count": 10,
   "id": "786cea36",
   "metadata": {},
   "outputs": [
    {
     "data": {
      "image/png": "[encoded data removed]",
      "text/plain": [
       "<Figure size 640x480 with 1 Axes>"
      ]
     },
     "metadata": {},
     "output_type": "display_data"
    }
   ],
   "source": [
    "plt.bar(ages,values,color='c',width=0.2)\n",
    "plt.xlabel('types of ages')\n",
    "plt.ylabel('avarage income')\n",
    "plt.title('AVARAGE INCOME')\n",
    "plt.show()"
   ]
  },
  {
   "cell_type": "markdown",
   "id": "65aef524",
   "metadata": {},
   "source": [
    "# Visulazation of corelation of the coloums "
   ]
  },
  {
   "cell_type": "code",
   "execution_count": 11,
   "id": "c79cd262",
   "metadata": {},
   "outputs": [
    {
     "data": {
      "text/plain": [
       "<AxesSubplot:>"
      ]
     },
     "execution_count": 11,
     "metadata": {},
     "output_type": "execute_result"
    },
    {
     "data": {
      "image/png": "[encoded data removed]",
      "text/plain": [
       "<Figure size 640x480 with 2 Axes>"
      ]
     },
     "metadata": {},
     "output_type": "display_data"
    }
   ],
   "source": [
    "import seaborn as s\n",
    "s.heatmap(df1.corr())"
   ]
  },
  {
   "cell_type": "code",
   "execution_count": 12,
   "id": "b48a2799",
   "metadata": {},
   "outputs": [],
   "source": [
    "womens = df1.query('gender==\"female\"')"
   ]
  },
  {
   "cell_type": "code",
   "execution_count": 13,
   "id": "89ba4ea8",
   "metadata": {},
   "outputs": [],
   "source": [
    "mens = df1.query('gender==\"male\"')"
   ]
  },
  {
   "cell_type": "markdown",
   "id": "c517dcb7",
   "metadata": {},
   "source": [
    "# Visulazation of reduced based on illness"
   ]
  },
  {
   "cell_type": "code",
   "execution_count": 14,
   "id": "eef75553",
   "metadata": {},
   "outputs": [
    {
     "data": {
      "image/png": "[encoded data removed]",
      "text/plain": [
       "<Figure size 900x400 with 2 Axes>"
      ]
     },
     "metadata": {},
     "output_type": "display_data"
    }
   ],
   "source": [
    "#plotting the two differer graphs in a single frame with the help of 'subplots' method \n",
    "figure,(x1,x2) = plt.subplots(nrows=1,ncols=2,figsize=(9,4))\n",
    "x1.scatter([womens.illness],[womens.reduced],color='green',label = 'women')\n",
    "x1.set_xlabel('Illness')\n",
    "x1.set_ylabel('Reduced ')\n",
    "x1.set_title('women')\n",
    "x2.scatter([mens.illness],[mens.reduced],color='blue',label = 'men')\n",
    "x2.set_xlabel('Illness')\n",
    "x2.set_ylabel('Reduced ')\n",
    "x2.set_title('men')\n",
    "plt.tight_layout()\n",
    "plt.show()"
   ]
  },
  {
   "cell_type": "code",
   "execution_count": 15,
   "id": "f0653a78",
   "metadata": {},
   "outputs": [],
   "source": [
    "x,y = df1.query('freepoor==\"no\" and freerepat==\"no\"').shape"
   ]
  },
  {
   "cell_type": "code",
   "execution_count": 16,
   "id": "6757ae38",
   "metadata": {},
   "outputs": [
    {
     "name": "stdout",
     "output_type": "stream",
     "text": [
      "There are 3877 people who don't get the free poor and freerepat\n"
     ]
    }
   ],
   "source": [
    "print(f\"There are {x} people who don't get the free poor and freerepat\")"
   ]
  },
  {
   "cell_type": "code",
   "execution_count": 26,
   "id": "20f8f328",
   "metadata": {},
   "outputs": [],
   "source": [
    "z = df.query('freepoor==\"no\"').shape[0]\n",
    "w = df.query('freepoor==\"yes\"').shape[0]\n",
    "e = df.query('freerepat==\"yes\"').shape[0]\n",
    "r = df.query('freerepat==\"no\"').shape[0]\n",
    "values = [w,z]\n",
    "values1= [e,r]\n",
    "names = [\"Yes\",\"NO\"]"
   ]
  },
  {
   "cell_type": "code",
   "execution_count": 29,
   "id": "aa5f30b2",
   "metadata": {},
   "outputs": [
    {
     "data": {
      "image/png": "[encoded data removed]",
      "text/plain": [
       "<Figure size 900x400 with 2 Axes>"
      ]
     },
     "metadata": {},
     "output_type": "display_data"
    }
   ],
   "source": [
    "figure,(x1,x2) = plt.subplots(nrows=1,ncols=2,figsize=(9,4))\n",
    "x1.bar(names,values,color='green',width=0.1)\n",
    "x1.set_xlabel('values')\n",
    "x1.set_ylabel('NUMBERS ')\n",
    "x1.set_title('FREEPOOR')\n",
    "x2.bar(names,values1,color='blue',width=0.1)\n",
    "x2.set_xlabel('values')\n",
    "x2.set_ylabel('NUMBERS')\n",
    "x2.set_title('FREEREPAT')\n",
    "plt.tight_layout()\n",
    "plt.show()"
   ]
  },
  {
   "cell_type": "code",
   "execution_count": null,
   "id": "9c79df13",
   "metadata": {},
   "outputs": [],
   "source": []
  }
 ],
 "metadata": {
  "kernelspec": {
   "display_name": "Python 3 (ipykernel)",
   "language": "python",
   "name": "python3"
  },
  "language_info": {
   "codemirror_mode": {
    "name": "ipython",
    "version": 3
   },
   "file_extension": ".py",
   "mimetype": "text/x-python",
   "name": "python",
   "nbconvert_exporter": "python",
   "pygments_lexer": "ipython3",
   "version": "3.9.13"
  }
 },
 "nbformat": 4,
 "nbformat_minor": 5
}
